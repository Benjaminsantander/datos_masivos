{
 "cells": [
  {
   "cell_type": "code",
   "execution_count": 1,
   "id": "7503b30e",
   "metadata": {},
   "outputs": [],
   "source": [
    "import pandas as pd\n",
    "import numpy as np\n",
    "import seaborn as sns\n",
    "import matplotlib.pyplot as plt"
   ]
  },
  {
   "cell_type": "code",
   "execution_count": null,
   "id": "032181bd",
   "metadata": {},
   "outputs": [],
   "source": [
    "acumulado = pd.read_csv(\"csv/dinero_acumulado.csv\", sep=\",\")\n",
    "gasto_ttl_mes = pd.read_csv(\"csv/gasto_mensual_total_usuario.csv\", sep=\",\")\n",
    "gasto_ttl_mes_fruta = pd.read_csv(\"csv/gasto_mensual_total_fruta_usuario.csv\", sep=\",\")\n",
    "cantidades_mes = pd.read_csv(\"csv/unidades frutas vendidas mes region - cantidad de frutas vendidas en cada mes separadas por region.csv\", sep=\",\")"
   ]
  }
 ],
 "metadata": {
  "kernelspec": {
   "display_name": "Python 3 (ipykernel)",
   "language": "python",
   "name": "python3"
  },
  "language_info": {
   "codemirror_mode": {
    "name": "ipython",
    "version": 3
   },
   "file_extension": ".py",
   "mimetype": "text/x-python",
   "name": "python",
   "nbconvert_exporter": "python",
   "pygments_lexer": "ipython3",
   "version": "3.10.6"
  }
 },
 "nbformat": 4,
 "nbformat_minor": 5
}
